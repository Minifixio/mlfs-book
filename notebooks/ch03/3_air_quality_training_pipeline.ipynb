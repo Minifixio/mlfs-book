{
 "cells": [
  {
   "cell_type": "markdown",
   "id": "86c7881d",
   "metadata": {
    "tags": []
   },
   "source": [
    "# <span style=\"font-width:bold; font-size: 3rem; color:#333;\">Training Pipeline</span>\n",
    "\n",
    "## 🗒️ This notebook is divided into the following sections:\n",
    "\n",
    "1. Select features for the model and create a Feature View with the selected features\n",
    "2. Create training data using the feature view\n",
    "3. Train model\n",
    "4. Evaluate model performance\n",
    "5. Save model to model registry"
   ]
  },
  {
   "cell_type": "markdown",
   "id": "a498f102",
   "metadata": {},
   "source": [
    "### <span style='color:#ff5f27'> 📝 Imports"
   ]
  },
  {
   "cell_type": "code",
   "execution_count": 101,
   "id": "fbb7e97d",
   "metadata": {
    "tags": []
   },
   "outputs": [],
   "source": [
    "import os\n",
    "from datetime import datetime, timedelta\n",
    "import pandas as pd\n",
    "import matplotlib.pyplot as plt\n",
    "from xgboost import XGBRegressor\n",
    "from xgboost import plot_importance\n",
    "from sklearn.metrics import mean_squared_error, r2_score\n",
    "import hopsworks\n",
    "from functions import util\n",
    "import json\n",
    "\n",
    "import warnings\n",
    "warnings.filterwarnings(\"ignore\")"
   ]
  },
  {
   "cell_type": "markdown",
   "id": "610de819",
   "metadata": {},
   "source": [
    "## <span style=\"color:#ff5f27;\"> 📡 Connect to Hopsworks Feature Store </span>"
   ]
  },
  {
   "cell_type": "code",
   "execution_count": 103,
   "id": "be0f8518",
   "metadata": {},
   "outputs": [
    {
     "name": "stdout",
     "output_type": "stream",
     "text": [
      "Connection closed.\n",
      "Connected. Call `.close()` to terminate connection gracefully.\n",
      "\n",
      "Logged in to project, explore it here https://c.app.hopsworks.ai:443/p/1164442\n",
      "Connected. Call `.close()` to terminate connection gracefully.\n",
      "API Key: ZdlnIknsr9JP3yFH.x9eD8jZiaKdhtr713oZflp5VN9dOkv4upr3ZDi8WYF2kRi0rLdGEJ8HHCasb3wKs\n",
      "Connected. Call `.close()` to terminate connection gracefully.\n"
     ]
    }
   ],
   "source": [
    "# If you haven't set the env variable 'HOPSWORKS_API_KEY', then uncomment the next line and enter your API key\n",
    "# os.environ[\"HOPSWORKS_API_KEY\"] = \"\"\n",
    "\n",
    "project = hopsworks.login(project=\"id2223_lab1_group9\")\n",
    "fs = project.get_feature_store() \n",
    "\n",
    "secrets = util.secrets_api(project.name)\n",
    "location_str = secrets.get_secret(\"SENSOR_LOCATION_JSON\").value\n",
    "location = json.loads(location_str)\n",
    "country=location['country']\n",
    "city=location['city']\n",
    "street=location['street']"
   ]
  },
  {
   "cell_type": "code",
   "execution_count": 104,
   "id": "72daba1f",
   "metadata": {},
   "outputs": [],
   "source": [
    "# Retrieve feature groups\n",
    "air_quality_fg = fs.get_feature_group(\n",
    "    name='air_quality',\n",
    "    version=4,\n",
    ")\n",
    "weather_fg = fs.get_feature_group(\n",
    "    name='weather',\n",
    "    version=1,\n",
    ")"
   ]
  },
  {
   "cell_type": "markdown",
   "id": "9a96454a",
   "metadata": {},
   "source": [
    "--- \n",
    "\n",
    "## <span style=\"color:#ff5f27;\"> 🖍 Feature View Creation and Retrieving </span>"
   ]
  },
  {
   "cell_type": "code",
   "execution_count": 127,
   "id": "8542a8d3",
   "metadata": {},
   "outputs": [
    {
     "name": "stdout",
     "output_type": "stream",
     "text": [
      "Finished: Reading data from Hopsworks, using Hopsworks Feature Query Service (1.40s) \n"
     ]
    },
    {
     "data": {
      "text/html": [
       "<div>\n",
       "<style scoped>\n",
       "    .dataframe tbody tr th:only-of-type {\n",
       "        vertical-align: middle;\n",
       "    }\n",
       "\n",
       "    .dataframe tbody tr th {\n",
       "        vertical-align: top;\n",
       "    }\n",
       "\n",
       "    .dataframe thead th {\n",
       "        text-align: right;\n",
       "    }\n",
       "</style>\n",
       "<table border=\"1\" class=\"dataframe\">\n",
       "  <thead>\n",
       "    <tr style=\"text-align: right;\">\n",
       "      <th></th>\n",
       "      <th>pm25</th>\n",
       "      <th>pm25_lagging_3_days</th>\n",
       "      <th>date</th>\n",
       "      <th>temperature_2m_mean</th>\n",
       "      <th>precipitation_sum</th>\n",
       "      <th>wind_speed_10m_max</th>\n",
       "      <th>wind_direction_10m_dominant</th>\n",
       "      <th>city</th>\n",
       "    </tr>\n",
       "  </thead>\n",
       "  <tbody>\n",
       "    <tr>\n",
       "      <th>0</th>\n",
       "      <td>18.389999</td>\n",
       "      <td>1.446667</td>\n",
       "      <td>2019-12-12 00:00:00+00:00</td>\n",
       "      <td>2.580333</td>\n",
       "      <td>4.900000</td>\n",
       "      <td>15.484185</td>\n",
       "      <td>180.472855</td>\n",
       "      <td>stockholm</td>\n",
       "    </tr>\n",
       "    <tr>\n",
       "      <th>1</th>\n",
       "      <td>10.950000</td>\n",
       "      <td>7.196667</td>\n",
       "      <td>2019-12-13 00:00:00+00:00</td>\n",
       "      <td>2.544917</td>\n",
       "      <td>2.400000</td>\n",
       "      <td>17.782686</td>\n",
       "      <td>143.605789</td>\n",
       "      <td>stockholm</td>\n",
       "    </tr>\n",
       "    <tr>\n",
       "      <th>2</th>\n",
       "      <td>7.260000</td>\n",
       "      <td>10.446667</td>\n",
       "      <td>2019-12-14 00:00:00+00:00</td>\n",
       "      <td>3.244917</td>\n",
       "      <td>9.299999</td>\n",
       "      <td>19.083395</td>\n",
       "      <td>140.838547</td>\n",
       "      <td>stockholm</td>\n",
       "    </tr>\n",
       "    <tr>\n",
       "      <th>3</th>\n",
       "      <td>2.580000</td>\n",
       "      <td>12.200000</td>\n",
       "      <td>2019-12-15 00:00:00+00:00</td>\n",
       "      <td>3.134501</td>\n",
       "      <td>1.800000</td>\n",
       "      <td>12.397806</td>\n",
       "      <td>158.689865</td>\n",
       "      <td>stockholm</td>\n",
       "    </tr>\n",
       "    <tr>\n",
       "      <th>4</th>\n",
       "      <td>1.710000</td>\n",
       "      <td>6.930000</td>\n",
       "      <td>2019-12-16 00:00:00+00:00</td>\n",
       "      <td>2.901167</td>\n",
       "      <td>4.000000</td>\n",
       "      <td>20.304129</td>\n",
       "      <td>238.335480</td>\n",
       "      <td>stockholm</td>\n",
       "    </tr>\n",
       "    <tr>\n",
       "      <th>5</th>\n",
       "      <td>5.390000</td>\n",
       "      <td>3.850000</td>\n",
       "      <td>2019-12-17 00:00:00+00:00</td>\n",
       "      <td>3.528250</td>\n",
       "      <td>2.600000</td>\n",
       "      <td>16.923830</td>\n",
       "      <td>222.523422</td>\n",
       "      <td>stockholm</td>\n",
       "    </tr>\n",
       "    <tr>\n",
       "      <th>6</th>\n",
       "      <td>1.080000</td>\n",
       "      <td>3.226667</td>\n",
       "      <td>2019-12-18 00:00:00+00:00</td>\n",
       "      <td>1.542833</td>\n",
       "      <td>16.000000</td>\n",
       "      <td>23.177401</td>\n",
       "      <td>293.558075</td>\n",
       "      <td>stockholm</td>\n",
       "    </tr>\n",
       "    <tr>\n",
       "      <th>7</th>\n",
       "      <td>3.130000</td>\n",
       "      <td>2.726667</td>\n",
       "      <td>2019-12-19 00:00:00+00:00</td>\n",
       "      <td>-0.215500</td>\n",
       "      <td>0.200000</td>\n",
       "      <td>19.803272</td>\n",
       "      <td>215.877213</td>\n",
       "      <td>stockholm</td>\n",
       "    </tr>\n",
       "    <tr>\n",
       "      <th>8</th>\n",
       "      <td>21.379999</td>\n",
       "      <td>3.200000</td>\n",
       "      <td>2019-12-20 00:00:00+00:00</td>\n",
       "      <td>4.776166</td>\n",
       "      <td>0.000000</td>\n",
       "      <td>15.844090</td>\n",
       "      <td>158.240067</td>\n",
       "      <td>stockholm</td>\n",
       "    </tr>\n",
       "    <tr>\n",
       "      <th>9</th>\n",
       "      <td>40.000000</td>\n",
       "      <td>8.530000</td>\n",
       "      <td>2019-12-21 00:00:00+00:00</td>\n",
       "      <td>5.363667</td>\n",
       "      <td>1.400000</td>\n",
       "      <td>14.003028</td>\n",
       "      <td>130.859024</td>\n",
       "      <td>stockholm</td>\n",
       "    </tr>\n",
       "  </tbody>\n",
       "</table>\n",
       "</div>"
      ],
      "text/plain": [
       "        pm25  pm25_lagging_3_days                      date  \\\n",
       "0  18.389999             1.446667 2019-12-12 00:00:00+00:00   \n",
       "1  10.950000             7.196667 2019-12-13 00:00:00+00:00   \n",
       "2   7.260000            10.446667 2019-12-14 00:00:00+00:00   \n",
       "3   2.580000            12.200000 2019-12-15 00:00:00+00:00   \n",
       "4   1.710000             6.930000 2019-12-16 00:00:00+00:00   \n",
       "5   5.390000             3.850000 2019-12-17 00:00:00+00:00   \n",
       "6   1.080000             3.226667 2019-12-18 00:00:00+00:00   \n",
       "7   3.130000             2.726667 2019-12-19 00:00:00+00:00   \n",
       "8  21.379999             3.200000 2019-12-20 00:00:00+00:00   \n",
       "9  40.000000             8.530000 2019-12-21 00:00:00+00:00   \n",
       "\n",
       "   temperature_2m_mean  precipitation_sum  wind_speed_10m_max  \\\n",
       "0             2.580333           4.900000           15.484185   \n",
       "1             2.544917           2.400000           17.782686   \n",
       "2             3.244917           9.299999           19.083395   \n",
       "3             3.134501           1.800000           12.397806   \n",
       "4             2.901167           4.000000           20.304129   \n",
       "5             3.528250           2.600000           16.923830   \n",
       "6             1.542833          16.000000           23.177401   \n",
       "7            -0.215500           0.200000           19.803272   \n",
       "8             4.776166           0.000000           15.844090   \n",
       "9             5.363667           1.400000           14.003028   \n",
       "\n",
       "   wind_direction_10m_dominant       city  \n",
       "0                   180.472855  stockholm  \n",
       "1                   143.605789  stockholm  \n",
       "2                   140.838547  stockholm  \n",
       "3                   158.689865  stockholm  \n",
       "4                   238.335480  stockholm  \n",
       "5                   222.523422  stockholm  \n",
       "6                   293.558075  stockholm  \n",
       "7                   215.877213  stockholm  \n",
       "8                   158.240067  stockholm  \n",
       "9                   130.859024  stockholm  "
      ]
     },
     "execution_count": 127,
     "metadata": {},
     "output_type": "execute_result"
    }
   ],
   "source": [
    "# Select features for training data.\n",
    "selected_features = air_quality_fg.select(['pm25', 'pm25_lagging_3_days']).join(weather_fg.select_all(), on=['city'])\n",
    "selected_features.show(10)"
   ]
  },
  {
   "cell_type": "markdown",
   "id": "e24e7d24",
   "metadata": {},
   "source": [
    "### Feature Views\n",
    "\n",
    "`Feature Views` are selections of features from different **Feature Groups** that make up the input and output API (or schema) for a model. A **Feature Views** can create **Training Data** and also be used in Inference to retrieve inference data.\n",
    "\n",
    "The Feature Views allows a schema in form of a query with filters, defining a model target feature/label and additional transformation functions (declarative feature encoding).\n",
    "\n",
    "In order to create Feature View we can use `FeatureStore.get_or_create_feature_view()` method.\n",
    "\n",
    "You can specify the following parameters:\n",
    "\n",
    "- `name` - name of a feature group.\n",
    "\n",
    "- `version` - version of a feature group.\n",
    "\n",
    "- `labels`- our target variable.\n",
    "\n",
    "- `transformation_functions` - declarative feature encoding (not used here)\n",
    "\n",
    "- `query` - selected features/labels for the model "
   ]
  },
  {
   "cell_type": "code",
   "execution_count": 133,
   "id": "1e9d3b7a",
   "metadata": {},
   "outputs": [
    {
     "name": "stdout",
     "output_type": "stream",
     "text": [
      "Feature view created successfully, explore it at \n",
      "https://c.app.hopsworks.ai:443/p/1164442/fs/1155145/fv/air_quality_fv/version/2\n"
     ]
    }
   ],
   "source": [
    "feature_view = fs.get_or_create_feature_view(\n",
    "    name='air_quality_fv',\n",
    "    description=\"weather features with air quality as the target\",\n",
    "    version=2,\n",
    "    labels=['pm25'],\n",
    "    query=selected_features,\n",
    ")"
   ]
  },
  {
   "cell_type": "markdown",
   "id": "707ab9f4",
   "metadata": {},
   "source": [
    "## <span style=\"color:#ff5f27;\">🪝 Split the training data into train/test data sets </span>\n",
    "\n",
    "We use a time-series split here, with training data before this date `start_date_test_data` and test data after this date"
   ]
  },
  {
   "cell_type": "code",
   "execution_count": 146,
   "id": "7c79be00",
   "metadata": {},
   "outputs": [],
   "source": [
    "start_date_test_data = \"2024-11-01\"\n",
    "# Convert string to datetime object\n",
    "test_start = datetime.strptime(start_date_test_data, \"%Y-%m-%d\")"
   ]
  },
  {
   "cell_type": "code",
   "execution_count": 147,
   "id": "1af43a52",
   "metadata": {},
   "outputs": [
    {
     "name": "stdout",
     "output_type": "stream",
     "text": [
      "Finished: Reading data from Hopsworks, using Hopsworks Feature Query Service (1.36s) \n"
     ]
    }
   ],
   "source": [
    "X_train, X_test, y_train, y_test = feature_view.train_test_split(\n",
    "    test_start=test_start\n",
    ")"
   ]
  },
  {
   "cell_type": "code",
   "execution_count": 148,
   "id": "d6ccd92b",
   "metadata": {},
   "outputs": [
    {
     "data": {
      "text/html": [
       "<div>\n",
       "<style scoped>\n",
       "    .dataframe tbody tr th:only-of-type {\n",
       "        vertical-align: middle;\n",
       "    }\n",
       "\n",
       "    .dataframe tbody tr th {\n",
       "        vertical-align: top;\n",
       "    }\n",
       "\n",
       "    .dataframe thead th {\n",
       "        text-align: right;\n",
       "    }\n",
       "</style>\n",
       "<table border=\"1\" class=\"dataframe\">\n",
       "  <thead>\n",
       "    <tr style=\"text-align: right;\">\n",
       "      <th></th>\n",
       "      <th>pm25_lagging_3_days</th>\n",
       "      <th>date</th>\n",
       "      <th>temperature_2m_mean</th>\n",
       "      <th>precipitation_sum</th>\n",
       "      <th>wind_speed_10m_max</th>\n",
       "      <th>wind_direction_10m_dominant</th>\n",
       "      <th>city</th>\n",
       "    </tr>\n",
       "  </thead>\n",
       "  <tbody>\n",
       "    <tr>\n",
       "      <th>0</th>\n",
       "      <td>1.446667</td>\n",
       "      <td>2019-12-12 00:00:00+00:00</td>\n",
       "      <td>2.580333</td>\n",
       "      <td>4.900000</td>\n",
       "      <td>15.484185</td>\n",
       "      <td>180.472855</td>\n",
       "      <td>stockholm</td>\n",
       "    </tr>\n",
       "    <tr>\n",
       "      <th>1</th>\n",
       "      <td>7.196667</td>\n",
       "      <td>2019-12-13 00:00:00+00:00</td>\n",
       "      <td>2.544917</td>\n",
       "      <td>2.400000</td>\n",
       "      <td>17.782686</td>\n",
       "      <td>143.605789</td>\n",
       "      <td>stockholm</td>\n",
       "    </tr>\n",
       "    <tr>\n",
       "      <th>2</th>\n",
       "      <td>10.446667</td>\n",
       "      <td>2019-12-14 00:00:00+00:00</td>\n",
       "      <td>3.244917</td>\n",
       "      <td>9.299999</td>\n",
       "      <td>19.083395</td>\n",
       "      <td>140.838547</td>\n",
       "      <td>stockholm</td>\n",
       "    </tr>\n",
       "    <tr>\n",
       "      <th>3</th>\n",
       "      <td>12.200000</td>\n",
       "      <td>2019-12-15 00:00:00+00:00</td>\n",
       "      <td>3.134501</td>\n",
       "      <td>1.800000</td>\n",
       "      <td>12.397806</td>\n",
       "      <td>158.689865</td>\n",
       "      <td>stockholm</td>\n",
       "    </tr>\n",
       "    <tr>\n",
       "      <th>4</th>\n",
       "      <td>6.930000</td>\n",
       "      <td>2019-12-16 00:00:00+00:00</td>\n",
       "      <td>2.901167</td>\n",
       "      <td>4.000000</td>\n",
       "      <td>20.304129</td>\n",
       "      <td>238.335480</td>\n",
       "      <td>stockholm</td>\n",
       "    </tr>\n",
       "    <tr>\n",
       "      <th>...</th>\n",
       "      <td>...</td>\n",
       "      <td>...</td>\n",
       "      <td>...</td>\n",
       "      <td>...</td>\n",
       "      <td>...</td>\n",
       "      <td>...</td>\n",
       "      <td>...</td>\n",
       "    </tr>\n",
       "    <tr>\n",
       "      <th>1764</th>\n",
       "      <td>4.710000</td>\n",
       "      <td>2024-10-27 00:00:00+00:00</td>\n",
       "      <td>9.744917</td>\n",
       "      <td>7.000000</td>\n",
       "      <td>23.241617</td>\n",
       "      <td>206.416763</td>\n",
       "      <td>stockholm</td>\n",
       "    </tr>\n",
       "    <tr>\n",
       "      <th>1765</th>\n",
       "      <td>9.010000</td>\n",
       "      <td>2024-10-28 00:00:00+00:00</td>\n",
       "      <td>7.769918</td>\n",
       "      <td>0.000000</td>\n",
       "      <td>17.811815</td>\n",
       "      <td>261.006927</td>\n",
       "      <td>stockholm</td>\n",
       "    </tr>\n",
       "    <tr>\n",
       "      <th>1766</th>\n",
       "      <td>8.493334</td>\n",
       "      <td>2024-10-29 00:00:00+00:00</td>\n",
       "      <td>6.480333</td>\n",
       "      <td>0.000000</td>\n",
       "      <td>20.037485</td>\n",
       "      <td>230.608246</td>\n",
       "      <td>stockholm</td>\n",
       "    </tr>\n",
       "    <tr>\n",
       "      <th>1767</th>\n",
       "      <td>5.910000</td>\n",
       "      <td>2024-10-30 00:00:00+00:00</td>\n",
       "      <td>8.638668</td>\n",
       "      <td>0.000000</td>\n",
       "      <td>20.833395</td>\n",
       "      <td>282.699585</td>\n",
       "      <td>stockholm</td>\n",
       "    </tr>\n",
       "    <tr>\n",
       "      <th>1768</th>\n",
       "      <td>1.083333</td>\n",
       "      <td>2024-10-31 00:00:00+00:00</td>\n",
       "      <td>7.851166</td>\n",
       "      <td>1.500000</td>\n",
       "      <td>17.954041</td>\n",
       "      <td>242.341965</td>\n",
       "      <td>stockholm</td>\n",
       "    </tr>\n",
       "  </tbody>\n",
       "</table>\n",
       "<p>1769 rows × 7 columns</p>\n",
       "</div>"
      ],
      "text/plain": [
       "      pm25_lagging_3_days                       date  temperature_2m_mean  \\\n",
       "0                1.446667  2019-12-12 00:00:00+00:00             2.580333   \n",
       "1                7.196667  2019-12-13 00:00:00+00:00             2.544917   \n",
       "2               10.446667  2019-12-14 00:00:00+00:00             3.244917   \n",
       "3               12.200000  2019-12-15 00:00:00+00:00             3.134501   \n",
       "4                6.930000  2019-12-16 00:00:00+00:00             2.901167   \n",
       "...                   ...                        ...                  ...   \n",
       "1764             4.710000  2024-10-27 00:00:00+00:00             9.744917   \n",
       "1765             9.010000  2024-10-28 00:00:00+00:00             7.769918   \n",
       "1766             8.493334  2024-10-29 00:00:00+00:00             6.480333   \n",
       "1767             5.910000  2024-10-30 00:00:00+00:00             8.638668   \n",
       "1768             1.083333  2024-10-31 00:00:00+00:00             7.851166   \n",
       "\n",
       "      precipitation_sum  wind_speed_10m_max  wind_direction_10m_dominant  \\\n",
       "0              4.900000           15.484185                   180.472855   \n",
       "1              2.400000           17.782686                   143.605789   \n",
       "2              9.299999           19.083395                   140.838547   \n",
       "3              1.800000           12.397806                   158.689865   \n",
       "4              4.000000           20.304129                   238.335480   \n",
       "...                 ...                 ...                          ...   \n",
       "1764           7.000000           23.241617                   206.416763   \n",
       "1765           0.000000           17.811815                   261.006927   \n",
       "1766           0.000000           20.037485                   230.608246   \n",
       "1767           0.000000           20.833395                   282.699585   \n",
       "1768           1.500000           17.954041                   242.341965   \n",
       "\n",
       "           city  \n",
       "0     stockholm  \n",
       "1     stockholm  \n",
       "2     stockholm  \n",
       "3     stockholm  \n",
       "4     stockholm  \n",
       "...         ...  \n",
       "1764  stockholm  \n",
       "1765  stockholm  \n",
       "1766  stockholm  \n",
       "1767  stockholm  \n",
       "1768  stockholm  \n",
       "\n",
       "[1769 rows x 7 columns]"
      ]
     },
     "execution_count": 148,
     "metadata": {},
     "output_type": "execute_result"
    }
   ],
   "source": [
    "X_train"
   ]
  },
  {
   "cell_type": "code",
   "execution_count": 149,
   "id": "ddce1066-c35b-4f8b-9998-4d7426ba8687",
   "metadata": {},
   "outputs": [
    {
     "data": {
      "text/html": [
       "<div>\n",
       "<style scoped>\n",
       "    .dataframe tbody tr th:only-of-type {\n",
       "        vertical-align: middle;\n",
       "    }\n",
       "\n",
       "    .dataframe tbody tr th {\n",
       "        vertical-align: top;\n",
       "    }\n",
       "\n",
       "    .dataframe thead th {\n",
       "        text-align: right;\n",
       "    }\n",
       "</style>\n",
       "<table border=\"1\" class=\"dataframe\">\n",
       "  <thead>\n",
       "    <tr style=\"text-align: right;\">\n",
       "      <th></th>\n",
       "      <th>pm25_lagging_3_days</th>\n",
       "      <th>date</th>\n",
       "      <th>temperature_2m_mean</th>\n",
       "      <th>precipitation_sum</th>\n",
       "      <th>wind_speed_10m_max</th>\n",
       "      <th>wind_direction_10m_dominant</th>\n",
       "      <th>city</th>\n",
       "    </tr>\n",
       "  </thead>\n",
       "  <tbody>\n",
       "    <tr>\n",
       "      <th>1769</th>\n",
       "      <td>1.206667</td>\n",
       "      <td>2024-11-01 00:00:00+00:00</td>\n",
       "      <td>8.490751</td>\n",
       "      <td>3.8</td>\n",
       "      <td>28.312689</td>\n",
       "      <td>289.640472</td>\n",
       "      <td>stockholm</td>\n",
       "    </tr>\n",
       "    <tr>\n",
       "      <th>1770</th>\n",
       "      <td>1.046667</td>\n",
       "      <td>2024-11-02 00:00:00+00:00</td>\n",
       "      <td>3.403250</td>\n",
       "      <td>0.0</td>\n",
       "      <td>25.560635</td>\n",
       "      <td>296.086700</td>\n",
       "      <td>stockholm</td>\n",
       "    </tr>\n",
       "    <tr>\n",
       "      <th>1771</th>\n",
       "      <td>1.006667</td>\n",
       "      <td>2024-11-03 00:00:00+00:00</td>\n",
       "      <td>6.986582</td>\n",
       "      <td>0.0</td>\n",
       "      <td>28.651680</td>\n",
       "      <td>296.179413</td>\n",
       "      <td>stockholm</td>\n",
       "    </tr>\n",
       "    <tr>\n",
       "      <th>1772</th>\n",
       "      <td>0.400000</td>\n",
       "      <td>2024-11-04 00:00:00+00:00</td>\n",
       "      <td>3.907417</td>\n",
       "      <td>0.0</td>\n",
       "      <td>15.697197</td>\n",
       "      <td>276.335327</td>\n",
       "      <td>stockholm</td>\n",
       "    </tr>\n",
       "    <tr>\n",
       "      <th>1773</th>\n",
       "      <td>0.400000</td>\n",
       "      <td>2024-11-05 00:00:00+00:00</td>\n",
       "      <td>5.397000</td>\n",
       "      <td>0.0</td>\n",
       "      <td>16.622490</td>\n",
       "      <td>276.592865</td>\n",
       "      <td>stockholm</td>\n",
       "    </tr>\n",
       "    <tr>\n",
       "      <th>1774</th>\n",
       "      <td>0.716667</td>\n",
       "      <td>2024-11-06 00:00:00+00:00</td>\n",
       "      <td>4.874083</td>\n",
       "      <td>0.0</td>\n",
       "      <td>16.466803</td>\n",
       "      <td>277.400696</td>\n",
       "      <td>stockholm</td>\n",
       "    </tr>\n",
       "    <tr>\n",
       "      <th>1775</th>\n",
       "      <td>1.230000</td>\n",
       "      <td>2024-11-07 00:00:00+00:00</td>\n",
       "      <td>5.026166</td>\n",
       "      <td>0.0</td>\n",
       "      <td>13.184308</td>\n",
       "      <td>291.012726</td>\n",
       "      <td>stockholm</td>\n",
       "    </tr>\n",
       "    <tr>\n",
       "      <th>1776</th>\n",
       "      <td>1.390000</td>\n",
       "      <td>2024-11-08 00:00:00+00:00</td>\n",
       "      <td>5.005333</td>\n",
       "      <td>0.0</td>\n",
       "      <td>13.184308</td>\n",
       "      <td>255.068558</td>\n",
       "      <td>stockholm</td>\n",
       "    </tr>\n",
       "    <tr>\n",
       "      <th>1777</th>\n",
       "      <td>1.606667</td>\n",
       "      <td>2024-11-09 00:00:00+00:00</td>\n",
       "      <td>5.646999</td>\n",
       "      <td>0.0</td>\n",
       "      <td>12.324414</td>\n",
       "      <td>255.090805</td>\n",
       "      <td>stockholm</td>\n",
       "    </tr>\n",
       "    <tr>\n",
       "      <th>1778</th>\n",
       "      <td>2.586667</td>\n",
       "      <td>2024-11-10 00:00:00+00:00</td>\n",
       "      <td>5.334500</td>\n",
       "      <td>0.0</td>\n",
       "      <td>9.102021</td>\n",
       "      <td>139.972229</td>\n",
       "      <td>stockholm</td>\n",
       "    </tr>\n",
       "    <tr>\n",
       "      <th>1779</th>\n",
       "      <td>2.760000</td>\n",
       "      <td>2024-11-11 00:00:00+00:00</td>\n",
       "      <td>4.776166</td>\n",
       "      <td>2.7</td>\n",
       "      <td>10.028439</td>\n",
       "      <td>236.030014</td>\n",
       "      <td>stockholm</td>\n",
       "    </tr>\n",
       "    <tr>\n",
       "      <th>1780</th>\n",
       "      <td>2.926667</td>\n",
       "      <td>2024-11-12 00:00:00+00:00</td>\n",
       "      <td>2.790750</td>\n",
       "      <td>0.0</td>\n",
       "      <td>10.196647</td>\n",
       "      <td>286.209778</td>\n",
       "      <td>stockholm</td>\n",
       "    </tr>\n",
       "    <tr>\n",
       "      <th>1781</th>\n",
       "      <td>1.600000</td>\n",
       "      <td>2024-11-13 00:00:00+00:00</td>\n",
       "      <td>3.603250</td>\n",
       "      <td>0.0</td>\n",
       "      <td>15.156384</td>\n",
       "      <td>239.627930</td>\n",
       "      <td>stockholm</td>\n",
       "    </tr>\n",
       "    <tr>\n",
       "      <th>1782</th>\n",
       "      <td>1.733333</td>\n",
       "      <td>2024-11-14 00:00:00+00:00</td>\n",
       "      <td>4.484500</td>\n",
       "      <td>0.0</td>\n",
       "      <td>18.000898</td>\n",
       "      <td>296.312195</td>\n",
       "      <td>stockholm</td>\n",
       "    </tr>\n",
       "    <tr>\n",
       "      <th>1783</th>\n",
       "      <td>1.456667</td>\n",
       "      <td>2024-11-15 00:00:00+00:00</td>\n",
       "      <td>5.978251</td>\n",
       "      <td>0.0</td>\n",
       "      <td>23.623928</td>\n",
       "      <td>256.343628</td>\n",
       "      <td>stockholm</td>\n",
       "    </tr>\n",
       "    <tr>\n",
       "      <th>1784</th>\n",
       "      <td>1.650000</td>\n",
       "      <td>2024-11-16 00:00:00+00:00</td>\n",
       "      <td>7.809501</td>\n",
       "      <td>0.1</td>\n",
       "      <td>27.615191</td>\n",
       "      <td>244.305389</td>\n",
       "      <td>stockholm</td>\n",
       "    </tr>\n",
       "    <tr>\n",
       "      <th>1785</th>\n",
       "      <td>1.410000</td>\n",
       "      <td>2024-11-17 00:00:00+00:00</td>\n",
       "      <td>4.847000</td>\n",
       "      <td>0.0</td>\n",
       "      <td>23.623928</td>\n",
       "      <td>255.876282</td>\n",
       "      <td>stockholm</td>\n",
       "    </tr>\n",
       "    <tr>\n",
       "      <th>1786</th>\n",
       "      <td>1.080000</td>\n",
       "      <td>2024-11-17 00:00:00+00:00</td>\n",
       "      <td>4.847000</td>\n",
       "      <td>0.0</td>\n",
       "      <td>23.623928</td>\n",
       "      <td>255.876282</td>\n",
       "      <td>stockholm</td>\n",
       "    </tr>\n",
       "    <tr>\n",
       "      <th>1787</th>\n",
       "      <td>1.080000</td>\n",
       "      <td>2024-11-19 00:00:00+00:00</td>\n",
       "      <td>0.350000</td>\n",
       "      <td>0.0</td>\n",
       "      <td>3.976330</td>\n",
       "      <td>84.805664</td>\n",
       "      <td>stockholm</td>\n",
       "    </tr>\n",
       "  </tbody>\n",
       "</table>\n",
       "</div>"
      ],
      "text/plain": [
       "      pm25_lagging_3_days                       date  temperature_2m_mean  \\\n",
       "1769             1.206667  2024-11-01 00:00:00+00:00             8.490751   \n",
       "1770             1.046667  2024-11-02 00:00:00+00:00             3.403250   \n",
       "1771             1.006667  2024-11-03 00:00:00+00:00             6.986582   \n",
       "1772             0.400000  2024-11-04 00:00:00+00:00             3.907417   \n",
       "1773             0.400000  2024-11-05 00:00:00+00:00             5.397000   \n",
       "1774             0.716667  2024-11-06 00:00:00+00:00             4.874083   \n",
       "1775             1.230000  2024-11-07 00:00:00+00:00             5.026166   \n",
       "1776             1.390000  2024-11-08 00:00:00+00:00             5.005333   \n",
       "1777             1.606667  2024-11-09 00:00:00+00:00             5.646999   \n",
       "1778             2.586667  2024-11-10 00:00:00+00:00             5.334500   \n",
       "1779             2.760000  2024-11-11 00:00:00+00:00             4.776166   \n",
       "1780             2.926667  2024-11-12 00:00:00+00:00             2.790750   \n",
       "1781             1.600000  2024-11-13 00:00:00+00:00             3.603250   \n",
       "1782             1.733333  2024-11-14 00:00:00+00:00             4.484500   \n",
       "1783             1.456667  2024-11-15 00:00:00+00:00             5.978251   \n",
       "1784             1.650000  2024-11-16 00:00:00+00:00             7.809501   \n",
       "1785             1.410000  2024-11-17 00:00:00+00:00             4.847000   \n",
       "1786             1.080000  2024-11-17 00:00:00+00:00             4.847000   \n",
       "1787             1.080000  2024-11-19 00:00:00+00:00             0.350000   \n",
       "\n",
       "      precipitation_sum  wind_speed_10m_max  wind_direction_10m_dominant  \\\n",
       "1769                3.8           28.312689                   289.640472   \n",
       "1770                0.0           25.560635                   296.086700   \n",
       "1771                0.0           28.651680                   296.179413   \n",
       "1772                0.0           15.697197                   276.335327   \n",
       "1773                0.0           16.622490                   276.592865   \n",
       "1774                0.0           16.466803                   277.400696   \n",
       "1775                0.0           13.184308                   291.012726   \n",
       "1776                0.0           13.184308                   255.068558   \n",
       "1777                0.0           12.324414                   255.090805   \n",
       "1778                0.0            9.102021                   139.972229   \n",
       "1779                2.7           10.028439                   236.030014   \n",
       "1780                0.0           10.196647                   286.209778   \n",
       "1781                0.0           15.156384                   239.627930   \n",
       "1782                0.0           18.000898                   296.312195   \n",
       "1783                0.0           23.623928                   256.343628   \n",
       "1784                0.1           27.615191                   244.305389   \n",
       "1785                0.0           23.623928                   255.876282   \n",
       "1786                0.0           23.623928                   255.876282   \n",
       "1787                0.0            3.976330                    84.805664   \n",
       "\n",
       "           city  \n",
       "1769  stockholm  \n",
       "1770  stockholm  \n",
       "1771  stockholm  \n",
       "1772  stockholm  \n",
       "1773  stockholm  \n",
       "1774  stockholm  \n",
       "1775  stockholm  \n",
       "1776  stockholm  \n",
       "1777  stockholm  \n",
       "1778  stockholm  \n",
       "1779  stockholm  \n",
       "1780  stockholm  \n",
       "1781  stockholm  \n",
       "1782  stockholm  \n",
       "1783  stockholm  \n",
       "1784  stockholm  \n",
       "1785  stockholm  \n",
       "1786  stockholm  \n",
       "1787  stockholm  "
      ]
     },
     "execution_count": 149,
     "metadata": {},
     "output_type": "execute_result"
    }
   ],
   "source": [
    "X_test"
   ]
  },
  {
   "cell_type": "code",
   "execution_count": 150,
   "id": "b728eb10",
   "metadata": {},
   "outputs": [],
   "source": [
    "# Drop the index columns - 'date' (event_time) and 'city' (primary key)\n",
    "\n",
    "train_features = X_train.drop(['date', 'city'], axis=1)\n",
    "test_features = X_test.drop(['date', 'city'], axis=1)"
   ]
  },
  {
   "cell_type": "code",
   "execution_count": 151,
   "id": "70bed512",
   "metadata": {},
   "outputs": [
    {
     "data": {
      "text/html": [
       "<div>\n",
       "<style scoped>\n",
       "    .dataframe tbody tr th:only-of-type {\n",
       "        vertical-align: middle;\n",
       "    }\n",
       "\n",
       "    .dataframe tbody tr th {\n",
       "        vertical-align: top;\n",
       "    }\n",
       "\n",
       "    .dataframe thead th {\n",
       "        text-align: right;\n",
       "    }\n",
       "</style>\n",
       "<table border=\"1\" class=\"dataframe\">\n",
       "  <thead>\n",
       "    <tr style=\"text-align: right;\">\n",
       "      <th></th>\n",
       "      <th>pm25</th>\n",
       "    </tr>\n",
       "  </thead>\n",
       "  <tbody>\n",
       "    <tr>\n",
       "      <th>0</th>\n",
       "      <td>18.389999</td>\n",
       "    </tr>\n",
       "    <tr>\n",
       "      <th>1</th>\n",
       "      <td>10.950000</td>\n",
       "    </tr>\n",
       "    <tr>\n",
       "      <th>2</th>\n",
       "      <td>7.260000</td>\n",
       "    </tr>\n",
       "    <tr>\n",
       "      <th>3</th>\n",
       "      <td>2.580000</td>\n",
       "    </tr>\n",
       "    <tr>\n",
       "      <th>4</th>\n",
       "      <td>1.710000</td>\n",
       "    </tr>\n",
       "    <tr>\n",
       "      <th>...</th>\n",
       "      <td>...</td>\n",
       "    </tr>\n",
       "    <tr>\n",
       "      <th>1764</th>\n",
       "      <td>15.000000</td>\n",
       "    </tr>\n",
       "    <tr>\n",
       "      <th>1765</th>\n",
       "      <td>1.850000</td>\n",
       "    </tr>\n",
       "    <tr>\n",
       "      <th>1766</th>\n",
       "      <td>0.880000</td>\n",
       "    </tr>\n",
       "    <tr>\n",
       "      <th>1767</th>\n",
       "      <td>0.520000</td>\n",
       "    </tr>\n",
       "    <tr>\n",
       "      <th>1768</th>\n",
       "      <td>2.220000</td>\n",
       "    </tr>\n",
       "  </tbody>\n",
       "</table>\n",
       "<p>1769 rows × 1 columns</p>\n",
       "</div>"
      ],
      "text/plain": [
       "           pm25\n",
       "0     18.389999\n",
       "1     10.950000\n",
       "2      7.260000\n",
       "3      2.580000\n",
       "4      1.710000\n",
       "...         ...\n",
       "1764  15.000000\n",
       "1765   1.850000\n",
       "1766   0.880000\n",
       "1767   0.520000\n",
       "1768   2.220000\n",
       "\n",
       "[1769 rows x 1 columns]"
      ]
     },
     "execution_count": 151,
     "metadata": {},
     "output_type": "execute_result"
    }
   ],
   "source": [
    "y_train"
   ]
  },
  {
   "cell_type": "markdown",
   "id": "be2f7b68",
   "metadata": {},
   "source": [
    "The `Feature View` is now saved in Hopsworks and you can retrieve it using `FeatureStore.get_feature_view(name='...', version=1)`."
   ]
  },
  {
   "cell_type": "markdown",
   "id": "20b12d6a",
   "metadata": {},
   "source": [
    "---"
   ]
  },
  {
   "cell_type": "markdown",
   "id": "0c46611b",
   "metadata": {},
   "source": [
    "## <span style=\"color:#ff5f27;\">🧬 Modeling</span>\n",
    "\n",
    "We will train a regression model to predict pm25 using our 4 features (wind_speed, wind_dir, temp, precipitation)"
   ]
  },
  {
   "cell_type": "code",
   "execution_count": 152,
   "id": "8be358ed",
   "metadata": {
    "tags": []
   },
   "outputs": [
    {
     "data": {
      "text/html": [
       "<style>#sk-container-id-9 {color: black;background-color: white;}#sk-container-id-9 pre{padding: 0;}#sk-container-id-9 div.sk-toggleable {background-color: white;}#sk-container-id-9 label.sk-toggleable__label {cursor: pointer;display: block;width: 100%;margin-bottom: 0;padding: 0.3em;box-sizing: border-box;text-align: center;}#sk-container-id-9 label.sk-toggleable__label-arrow:before {content: \"▸\";float: left;margin-right: 0.25em;color: #696969;}#sk-container-id-9 label.sk-toggleable__label-arrow:hover:before {color: black;}#sk-container-id-9 div.sk-estimator:hover label.sk-toggleable__label-arrow:before {color: black;}#sk-container-id-9 div.sk-toggleable__content {max-height: 0;max-width: 0;overflow: hidden;text-align: left;background-color: #f0f8ff;}#sk-container-id-9 div.sk-toggleable__content pre {margin: 0.2em;color: black;border-radius: 0.25em;background-color: #f0f8ff;}#sk-container-id-9 input.sk-toggleable__control:checked~div.sk-toggleable__content {max-height: 200px;max-width: 100%;overflow: auto;}#sk-container-id-9 input.sk-toggleable__control:checked~label.sk-toggleable__label-arrow:before {content: \"▾\";}#sk-container-id-9 div.sk-estimator input.sk-toggleable__control:checked~label.sk-toggleable__label {background-color: #d4ebff;}#sk-container-id-9 div.sk-label input.sk-toggleable__control:checked~label.sk-toggleable__label {background-color: #d4ebff;}#sk-container-id-9 input.sk-hidden--visually {border: 0;clip: rect(1px 1px 1px 1px);clip: rect(1px, 1px, 1px, 1px);height: 1px;margin: -1px;overflow: hidden;padding: 0;position: absolute;width: 1px;}#sk-container-id-9 div.sk-estimator {font-family: monospace;background-color: #f0f8ff;border: 1px dotted black;border-radius: 0.25em;box-sizing: border-box;margin-bottom: 0.5em;}#sk-container-id-9 div.sk-estimator:hover {background-color: #d4ebff;}#sk-container-id-9 div.sk-parallel-item::after {content: \"\";width: 100%;border-bottom: 1px solid gray;flex-grow: 1;}#sk-container-id-9 div.sk-label:hover label.sk-toggleable__label {background-color: #d4ebff;}#sk-container-id-9 div.sk-serial::before {content: \"\";position: absolute;border-left: 1px solid gray;box-sizing: border-box;top: 0;bottom: 0;left: 50%;z-index: 0;}#sk-container-id-9 div.sk-serial {display: flex;flex-direction: column;align-items: center;background-color: white;padding-right: 0.2em;padding-left: 0.2em;position: relative;}#sk-container-id-9 div.sk-item {position: relative;z-index: 1;}#sk-container-id-9 div.sk-parallel {display: flex;align-items: stretch;justify-content: center;background-color: white;position: relative;}#sk-container-id-9 div.sk-item::before, #sk-container-id-9 div.sk-parallel-item::before {content: \"\";position: absolute;border-left: 1px solid gray;box-sizing: border-box;top: 0;bottom: 0;left: 50%;z-index: -1;}#sk-container-id-9 div.sk-parallel-item {display: flex;flex-direction: column;z-index: 1;position: relative;background-color: white;}#sk-container-id-9 div.sk-parallel-item:first-child::after {align-self: flex-end;width: 50%;}#sk-container-id-9 div.sk-parallel-item:last-child::after {align-self: flex-start;width: 50%;}#sk-container-id-9 div.sk-parallel-item:only-child::after {width: 0;}#sk-container-id-9 div.sk-dashed-wrapped {border: 1px dashed gray;margin: 0 0.4em 0.5em 0.4em;box-sizing: border-box;padding-bottom: 0.4em;background-color: white;}#sk-container-id-9 div.sk-label label {font-family: monospace;font-weight: bold;display: inline-block;line-height: 1.2em;}#sk-container-id-9 div.sk-label-container {text-align: center;}#sk-container-id-9 div.sk-container {/* jupyter's `normalize.less` sets `[hidden] { display: none; }` but bootstrap.min.css set `[hidden] { display: none !important; }` so we also need the `!important` here to be able to override the default hidden behavior on the sphinx rendered scikit-learn.org. See: https://github.com/scikit-learn/scikit-learn/issues/21755 */display: inline-block !important;position: relative;}#sk-container-id-9 div.sk-text-repr-fallback {display: none;}</style><div id=\"sk-container-id-9\" class=\"sk-top-container\"><div class=\"sk-text-repr-fallback\"><pre>XGBRegressor(base_score=None, booster=None, callbacks=None,\n",
       "             colsample_bylevel=None, colsample_bynode=None,\n",
       "             colsample_bytree=None, device=None, early_stopping_rounds=None,\n",
       "             enable_categorical=False, eval_metric=None, feature_types=None,\n",
       "             gamma=None, grow_policy=None, importance_type=None,\n",
       "             interaction_constraints=None, learning_rate=None, max_bin=None,\n",
       "             max_cat_threshold=None, max_cat_to_onehot=None,\n",
       "             max_delta_step=None, max_depth=None, max_leaves=None,\n",
       "             min_child_weight=None, missing=nan, monotone_constraints=None,\n",
       "             multi_strategy=None, n_estimators=None, n_jobs=None,\n",
       "             num_parallel_tree=None, random_state=None, ...)</pre><b>In a Jupyter environment, please rerun this cell to show the HTML representation or trust the notebook. <br />On GitHub, the HTML representation is unable to render, please try loading this page with nbviewer.org.</b></div><div class=\"sk-container\" hidden><div class=\"sk-item\"><div class=\"sk-estimator sk-toggleable\"><input class=\"sk-toggleable__control sk-hidden--visually\" id=\"sk-estimator-id-9\" type=\"checkbox\" checked><label for=\"sk-estimator-id-9\" class=\"sk-toggleable__label sk-toggleable__label-arrow\">XGBRegressor</label><div class=\"sk-toggleable__content\"><pre>XGBRegressor(base_score=None, booster=None, callbacks=None,\n",
       "             colsample_bylevel=None, colsample_bynode=None,\n",
       "             colsample_bytree=None, device=None, early_stopping_rounds=None,\n",
       "             enable_categorical=False, eval_metric=None, feature_types=None,\n",
       "             gamma=None, grow_policy=None, importance_type=None,\n",
       "             interaction_constraints=None, learning_rate=None, max_bin=None,\n",
       "             max_cat_threshold=None, max_cat_to_onehot=None,\n",
       "             max_delta_step=None, max_depth=None, max_leaves=None,\n",
       "             min_child_weight=None, missing=nan, monotone_constraints=None,\n",
       "             multi_strategy=None, n_estimators=None, n_jobs=None,\n",
       "             num_parallel_tree=None, random_state=None, ...)</pre></div></div></div></div></div>"
      ],
      "text/plain": [
       "XGBRegressor(base_score=None, booster=None, callbacks=None,\n",
       "             colsample_bylevel=None, colsample_bynode=None,\n",
       "             colsample_bytree=None, device=None, early_stopping_rounds=None,\n",
       "             enable_categorical=False, eval_metric=None, feature_types=None,\n",
       "             gamma=None, grow_policy=None, importance_type=None,\n",
       "             interaction_constraints=None, learning_rate=None, max_bin=None,\n",
       "             max_cat_threshold=None, max_cat_to_onehot=None,\n",
       "             max_delta_step=None, max_depth=None, max_leaves=None,\n",
       "             min_child_weight=None, missing=nan, monotone_constraints=None,\n",
       "             multi_strategy=None, n_estimators=None, n_jobs=None,\n",
       "             num_parallel_tree=None, random_state=None, ...)"
      ]
     },
     "execution_count": 152,
     "metadata": {},
     "output_type": "execute_result"
    }
   ],
   "source": [
    "# Creating an instance of the XGBoost Regressor\n",
    "xgb_regressor = XGBRegressor()\n",
    "\n",
    "# Fitting the XGBoost Regressor to the training data\n",
    "xgb_regressor.fit(train_features, y_train)\n"
   ]
  },
  {
   "cell_type": "code",
   "execution_count": 153,
   "id": "18e1beaa",
   "metadata": {},
   "outputs": [
    {
     "name": "stdout",
     "output_type": "stream",
     "text": [
      "MSE: 5.882613\n",
      "R squared: -0.4957449551768236\n"
     ]
    }
   ],
   "source": [
    "# Predicting target values on the test set\n",
    "y_pred = xgb_regressor.predict(test_features)\n",
    "\n",
    "# Calculating Mean Squared Error (MSE) using sklearn\n",
    "mse = mean_squared_error(y_test.iloc[:,0], y_pred)\n",
    "print(\"MSE:\", mse)\n",
    "\n",
    "# Calculating R squared using sklearn\n",
    "r2 = r2_score(y_test.iloc[:,0], y_pred)\n",
    "print(\"R squared:\", r2)"
   ]
  },
  {
   "cell_type": "code",
   "execution_count": 154,
   "id": "f33a8418",
   "metadata": {},
   "outputs": [],
   "source": [
    "df = y_test\n",
    "df['predicted_pm25'] = y_pred"
   ]
  },
  {
   "cell_type": "code",
   "execution_count": 155,
   "id": "9ea1f4ac",
   "metadata": {},
   "outputs": [
    {
     "data": {
      "text/html": [
       "<div>\n",
       "<style scoped>\n",
       "    .dataframe tbody tr th:only-of-type {\n",
       "        vertical-align: middle;\n",
       "    }\n",
       "\n",
       "    .dataframe tbody tr th {\n",
       "        vertical-align: top;\n",
       "    }\n",
       "\n",
       "    .dataframe thead th {\n",
       "        text-align: right;\n",
       "    }\n",
       "</style>\n",
       "<table border=\"1\" class=\"dataframe\">\n",
       "  <thead>\n",
       "    <tr style=\"text-align: right;\">\n",
       "      <th></th>\n",
       "      <th>pm25</th>\n",
       "      <th>predicted_pm25</th>\n",
       "      <th>date</th>\n",
       "    </tr>\n",
       "  </thead>\n",
       "  <tbody>\n",
       "    <tr>\n",
       "      <th>1769</th>\n",
       "      <td>0.40</td>\n",
       "      <td>1.131409</td>\n",
       "      <td>2024-11-01 00:00:00+00:00</td>\n",
       "    </tr>\n",
       "    <tr>\n",
       "      <th>1770</th>\n",
       "      <td>0.40</td>\n",
       "      <td>0.513836</td>\n",
       "      <td>2024-11-02 00:00:00+00:00</td>\n",
       "    </tr>\n",
       "    <tr>\n",
       "      <th>1771</th>\n",
       "      <td>0.40</td>\n",
       "      <td>0.585229</td>\n",
       "      <td>2024-11-03 00:00:00+00:00</td>\n",
       "    </tr>\n",
       "    <tr>\n",
       "      <th>1772</th>\n",
       "      <td>0.40</td>\n",
       "      <td>0.402501</td>\n",
       "      <td>2024-11-04 00:00:00+00:00</td>\n",
       "    </tr>\n",
       "    <tr>\n",
       "      <th>1773</th>\n",
       "      <td>1.35</td>\n",
       "      <td>0.443481</td>\n",
       "      <td>2024-11-05 00:00:00+00:00</td>\n",
       "    </tr>\n",
       "  </tbody>\n",
       "</table>\n",
       "</div>"
      ],
      "text/plain": [
       "      pm25  predicted_pm25                       date\n",
       "1769  0.40        1.131409  2024-11-01 00:00:00+00:00\n",
       "1770  0.40        0.513836  2024-11-02 00:00:00+00:00\n",
       "1771  0.40        0.585229  2024-11-03 00:00:00+00:00\n",
       "1772  0.40        0.402501  2024-11-04 00:00:00+00:00\n",
       "1773  1.35        0.443481  2024-11-05 00:00:00+00:00"
      ]
     },
     "execution_count": 155,
     "metadata": {},
     "output_type": "execute_result"
    }
   ],
   "source": [
    "df['date'] = X_test['date']\n",
    "df = df.sort_values(by=['date'])\n",
    "df.head(5)"
   ]
  },
  {
   "cell_type": "code",
   "execution_count": 156,
   "id": "3100f9a8",
   "metadata": {},
   "outputs": [],
   "source": [
    "# Creating a directory for the model artifacts if it doesn't exist\n",
    "model_dir = \"air_quality_model\"\n",
    "if not os.path.exists(model_dir):\n",
    "    os.mkdir(model_dir)\n",
    "images_dir = model_dir + \"/images\"\n",
    "if not os.path.exists(images_dir):\n",
    "    os.mkdir(images_dir)"
   ]
  },
  {
   "cell_type": "code",
   "execution_count": 157,
   "id": "c4485b41",
   "metadata": {},
   "outputs": [
    {
     "data": {
      "image/png": "[encoded data removed]",
      "text/plain": [
       "<Figure size 1000x600 with 1 Axes>"
      ]
     },
     "metadata": {},
     "output_type": "display_data"
    }
   ],
   "source": [
    "file_path = images_dir + \"/pm25_hindcast.png\"\n",
    "plt = util.plot_air_quality_forecast(city, street, df, file_path, hindcast=True) \n",
    "plt.show()"
   ]
  },
  {
   "cell_type": "markdown",
   "id": "378c69ae",
   "metadata": {},
   "source": [
    "---"
   ]
  },
  {
   "cell_type": "markdown",
   "id": "1b177983",
   "metadata": {
    "tags": []
   },
   "source": [
    "## <span style='color:#ff5f27'>🗄 Model Registry</span>\n",
    "\n",
    "One of the features in Hopsworks is the model registry. This is where you can store different versions of models and compare their performance. Models from the registry can then be served as API endpoints."
   ]
  },
  {
   "cell_type": "markdown",
   "id": "db096e82",
   "metadata": {},
   "source": [
    "### <span style=\"color:#ff5f27;\">⚙️ Model Schema</span>"
   ]
  },
  {
   "cell_type": "markdown",
   "id": "82881cab",
   "metadata": {},
   "source": [
    "The model needs to be set up with a [Model Schema](https://docs.hopsworks.ai/machine-learning-api/latest/generated/model_schema/), which describes the inputs and outputs for a model.\n",
    "\n",
    "A Model Schema can be automatically generated from training examples, as shown below."
   ]
  },
  {
   "cell_type": "code",
   "execution_count": 158,
   "id": "271f1ca2",
   "metadata": {
    "scrolled": true
   },
   "outputs": [],
   "source": [
    "from hsml.schema import Schema\n",
    "from hsml.model_schema import ModelSchema\n",
    "\n",
    "# Creating input and output schemas using the 'Schema' class for features (X) and target variable (y)\n",
    "input_schema = Schema(X_train)\n",
    "output_schema = Schema(y_train)\n",
    "\n",
    "# Creating a model schema using 'ModelSchema' with the input and output schemas\n",
    "model_schema = ModelSchema(input_schema=input_schema, output_schema=output_schema)\n",
    "\n",
    "# Converting the model schema to a dictionary representation\n",
    "schema_dict = model_schema.to_dict()"
   ]
  },
  {
   "cell_type": "code",
   "execution_count": 159,
   "id": "011e3fad",
   "metadata": {
    "scrolled": true
   },
   "outputs": [],
   "source": [
    "# Saving the XGBoost regressor object as a json file in the model directory\n",
    "xgb_regressor.save_model(model_dir + \"/model.json\")"
   ]
  },
  {
   "cell_type": "code",
   "execution_count": 160,
   "id": "549b4785",
   "metadata": {},
   "outputs": [],
   "source": [
    "res_dict = { \n",
    "        \"MSE\": str(mse),\n",
    "        \"R squared\": str(r2),\n",
    "    }"
   ]
  },
  {
   "cell_type": "code",
   "execution_count": 161,
   "id": "81434864",
   "metadata": {},
   "outputs": [
    {
     "name": "stdout",
     "output_type": "stream",
     "text": [
      "Connected. Call `.close()` to terminate connection gracefully.\n"
     ]
    },
    {
     "data": {
      "application/vnd.jupyter.widget-view+json": {
       "model_id": "a3b50ff73b0c4751aa11c27ff571651d",
       "version_major": 2,
       "version_minor": 0
      },
      "text/plain": [
       "  0%|          | 0/6 [00:00<?, ?it/s]"
      ]
     },
     "metadata": {},
     "output_type": "display_data"
    },
    {
     "data": {
      "application/vnd.jupyter.widget-view+json": {
       "model_id": "b67f8caab80c4c5a83c6a0d996c5f615",
       "version_major": 2,
       "version_minor": 0
      },
      "text/plain": [
       "Uploading: 0.000%|          | 0/515007 elapsed<00:00 remaining<?"
      ]
     },
     "metadata": {},
     "output_type": "display_data"
    },
    {
     "data": {
      "application/vnd.jupyter.widget-view+json": {
       "model_id": "bd4835748e644b618cd3f43f2f00bce3",
       "version_major": 2,
       "version_minor": 0
      },
      "text/plain": [
       "Uploading: 0.000%|          | 0/19279 elapsed<00:00 remaining<?"
      ]
     },
     "metadata": {},
     "output_type": "display_data"
    },
    {
     "data": {
      "application/vnd.jupyter.widget-view+json": {
       "model_id": "38557285b06940d2a9847d30b84318ed",
       "version_major": 2,
       "version_minor": 0
      },
      "text/plain": [
       "Uploading: 0.000%|          | 0/72050 elapsed<00:00 remaining<?"
      ]
     },
     "metadata": {},
     "output_type": "display_data"
    },
    {
     "data": {
      "application/vnd.jupyter.widget-view+json": {
       "model_id": "8cf36ce5473846b6acccf31853646d59",
       "version_major": 2,
       "version_minor": 0
      },
      "text/plain": [
       "Uploading: 0.000%|          | 0/127 elapsed<00:00 remaining<?"
      ]
     },
     "metadata": {},
     "output_type": "display_data"
    },
    {
     "data": {
      "application/vnd.jupyter.widget-view+json": {
       "model_id": "72cb4e6fb24a456d94601271d8bdbd22",
       "version_major": 2,
       "version_minor": 0
      },
      "text/plain": [
       "Uploading: 0.000%|          | 0/727 elapsed<00:00 remaining<?"
      ]
     },
     "metadata": {},
     "output_type": "display_data"
    },
    {
     "name": "stdout",
     "output_type": "stream",
     "text": [
      "Model created, explore it at https://c.app.hopsworks.ai:443/p/1164442/models/air_quality_xgboost_model/3\n"
     ]
    },
    {
     "data": {
      "text/plain": [
       "Model(name: 'air_quality_xgboost_model', version: 3)"
      ]
     },
     "execution_count": 161,
     "metadata": {},
     "output_type": "execute_result"
    }
   ],
   "source": [
    "mr = project.get_model_registry()\n",
    "\n",
    "# Creating a Python model in the model registry named 'air_quality_xgboost_model'\n",
    "\n",
    "aq_model = mr.python.create_model(\n",
    "    name=\"air_quality_xgboost_model\", \n",
    "    metrics= res_dict,\n",
    "    model_schema=model_schema,\n",
    "    input_example=X_test.sample().values, \n",
    "    description=\"Air Quality (PM2.5) predictor\",\n",
    ")\n",
    "\n",
    "# Saving the model artifacts to the 'air_quality_model' directory in the model registry\n",
    "aq_model.save(model_dir)"
   ]
  },
  {
   "cell_type": "markdown",
   "id": "ae3b3088",
   "metadata": {},
   "source": [
    "---\n",
    "## <span style=\"color:#ff5f27;\">⏭️ **Next:** Part 04: Batch Inference</span>\n",
    "\n",
    "In the following notebook you will use your model for Batch Inference.\n"
   ]
  },
  {
   "cell_type": "code",
   "execution_count": null,
   "id": "f3dd9154",
   "metadata": {},
   "outputs": [],
   "source": []
  }
 ],
 "metadata": {
  "kernelspec": {
   "display_name": "Python 3 (ipykernel)",
   "language": "python",
   "name": "python3"
  },
  "language_info": {
   "codemirror_mode": {
    "name": "ipython",
    "version": 3
   },
   "file_extension": ".py",
   "mimetype": "text/x-python",
   "name": "python",
   "nbconvert_exporter": "python",
   "pygments_lexer": "ipython3",
   "version": "3.11.7"
  }
 },
 "nbformat": 4,
 "nbformat_minor": 5
}
